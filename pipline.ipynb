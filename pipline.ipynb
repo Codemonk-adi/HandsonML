{
 "cells": [
  {
   "cell_type": "code",
   "execution_count": 25,
   "metadata": {},
   "outputs": [],
   "source": [
    "import pandas as pd\n",
    "import numpy as np"
   ]
  },
  {
   "cell_type": "code",
   "execution_count": 39,
   "metadata": {},
   "outputs": [
    {
     "data": {
      "text/html": [
       "<div>\n",
       "<style scoped>\n",
       "    .dataframe tbody tr th:only-of-type {\n",
       "        vertical-align: middle;\n",
       "    }\n",
       "\n",
       "    .dataframe tbody tr th {\n",
       "        vertical-align: top;\n",
       "    }\n",
       "\n",
       "    .dataframe thead th {\n",
       "        text-align: right;\n",
       "    }\n",
       "</style>\n",
       "<table border=\"1\" class=\"dataframe\">\n",
       "  <thead>\n",
       "    <tr style=\"text-align: right;\">\n",
       "      <th></th>\n",
       "      <th>longitude</th>\n",
       "      <th>latitude</th>\n",
       "      <th>housing_median_age</th>\n",
       "      <th>total_rooms</th>\n",
       "      <th>total_bedrooms</th>\n",
       "      <th>population</th>\n",
       "      <th>households</th>\n",
       "      <th>median_income</th>\n",
       "      <th>median_house_value</th>\n",
       "      <th>distance_coastline</th>\n",
       "      <th>income_cat</th>\n",
       "    </tr>\n",
       "  </thead>\n",
       "  <tbody>\n",
       "    <tr>\n",
       "      <th>0</th>\n",
       "      <td>-122.23</td>\n",
       "      <td>37.88</td>\n",
       "      <td>41.0</td>\n",
       "      <td>880.0</td>\n",
       "      <td>129.0</td>\n",
       "      <td>322.0</td>\n",
       "      <td>126.0</td>\n",
       "      <td>8.3252</td>\n",
       "      <td>452600.0</td>\n",
       "      <td>0.255030</td>\n",
       "      <td>5</td>\n",
       "    </tr>\n",
       "    <tr>\n",
       "      <th>1</th>\n",
       "      <td>-122.22</td>\n",
       "      <td>37.86</td>\n",
       "      <td>21.0</td>\n",
       "      <td>7099.0</td>\n",
       "      <td>1106.0</td>\n",
       "      <td>2401.0</td>\n",
       "      <td>1138.0</td>\n",
       "      <td>8.3014</td>\n",
       "      <td>358500.0</td>\n",
       "      <td>0.261432</td>\n",
       "      <td>5</td>\n",
       "    </tr>\n",
       "    <tr>\n",
       "      <th>2</th>\n",
       "      <td>-122.24</td>\n",
       "      <td>37.85</td>\n",
       "      <td>52.0</td>\n",
       "      <td>1467.0</td>\n",
       "      <td>190.0</td>\n",
       "      <td>496.0</td>\n",
       "      <td>177.0</td>\n",
       "      <td>7.2574</td>\n",
       "      <td>352100.0</td>\n",
       "      <td>0.240331</td>\n",
       "      <td>5</td>\n",
       "    </tr>\n",
       "    <tr>\n",
       "      <th>3</th>\n",
       "      <td>-122.25</td>\n",
       "      <td>37.85</td>\n",
       "      <td>52.0</td>\n",
       "      <td>1274.0</td>\n",
       "      <td>235.0</td>\n",
       "      <td>558.0</td>\n",
       "      <td>219.0</td>\n",
       "      <td>5.6431</td>\n",
       "      <td>341300.0</td>\n",
       "      <td>0.230410</td>\n",
       "      <td>4</td>\n",
       "    </tr>\n",
       "    <tr>\n",
       "      <th>4</th>\n",
       "      <td>-122.25</td>\n",
       "      <td>37.85</td>\n",
       "      <td>52.0</td>\n",
       "      <td>1627.0</td>\n",
       "      <td>280.0</td>\n",
       "      <td>565.0</td>\n",
       "      <td>259.0</td>\n",
       "      <td>3.8462</td>\n",
       "      <td>342200.0</td>\n",
       "      <td>0.230410</td>\n",
       "      <td>3</td>\n",
       "    </tr>\n",
       "  </tbody>\n",
       "</table>\n",
       "</div>"
      ],
      "text/plain": [
       "   longitude  latitude  housing_median_age  total_rooms  total_bedrooms  \\\n",
       "0    -122.23     37.88                41.0        880.0           129.0   \n",
       "1    -122.22     37.86                21.0       7099.0          1106.0   \n",
       "2    -122.24     37.85                52.0       1467.0           190.0   \n",
       "3    -122.25     37.85                52.0       1274.0           235.0   \n",
       "4    -122.25     37.85                52.0       1627.0           280.0   \n",
       "\n",
       "   population  households  median_income  median_house_value  \\\n",
       "0       322.0       126.0         8.3252            452600.0   \n",
       "1      2401.0      1138.0         8.3014            358500.0   \n",
       "2       496.0       177.0         7.2574            352100.0   \n",
       "3       558.0       219.0         5.6431            341300.0   \n",
       "4       565.0       259.0         3.8462            342200.0   \n",
       "\n",
       "   distance_coastline income_cat  \n",
       "0            0.255030          5  \n",
       "1            0.261432          5  \n",
       "2            0.240331          5  \n",
       "3            0.230410          4  \n",
       "4            0.230410          3  "
      ]
     },
     "execution_count": 39,
     "metadata": {},
     "output_type": "execute_result"
    }
   ],
   "source": [
    "housing = pd.read_csv('coastal_distance.csv')\n",
    "housing.drop('ind',inplace=True,axis=1)\n",
    "housing.drop('geometry',inplace=True,axis=1)\n",
    "housing.drop('ocean_proximity',inplace=True,axis=1)\n",
    "housing['income_cat'] = pd.cut(housing['median_income'],bins=[0,1.5,3,4.5,6,np.inf],labels=[1,2,3,4,5])\n",
    "\n",
    "housing.head()"
   ]
  },
  {
   "cell_type": "code",
   "execution_count": 40,
   "metadata": {},
   "outputs": [
    {
     "data": {
      "text/html": [
       "<div>\n",
       "<style scoped>\n",
       "    .dataframe tbody tr th:only-of-type {\n",
       "        vertical-align: middle;\n",
       "    }\n",
       "\n",
       "    .dataframe tbody tr th {\n",
       "        vertical-align: top;\n",
       "    }\n",
       "\n",
       "    .dataframe thead th {\n",
       "        text-align: right;\n",
       "    }\n",
       "</style>\n",
       "<table border=\"1\" class=\"dataframe\">\n",
       "  <thead>\n",
       "    <tr style=\"text-align: right;\">\n",
       "      <th></th>\n",
       "      <th>longitude</th>\n",
       "      <th>latitude</th>\n",
       "      <th>housing_median_age</th>\n",
       "      <th>total_rooms</th>\n",
       "      <th>total_bedrooms</th>\n",
       "      <th>population</th>\n",
       "      <th>households</th>\n",
       "      <th>median_income</th>\n",
       "      <th>distance_coastline</th>\n",
       "    </tr>\n",
       "  </thead>\n",
       "  <tbody>\n",
       "    <tr>\n",
       "      <th>8049</th>\n",
       "      <td>-118.17</td>\n",
       "      <td>33.83</td>\n",
       "      <td>45.0</td>\n",
       "      <td>2019.0</td>\n",
       "      <td>363.0</td>\n",
       "      <td>880.0</td>\n",
       "      <td>339.0</td>\n",
       "      <td>4.1023</td>\n",
       "      <td>0.066654</td>\n",
       "    </tr>\n",
       "    <tr>\n",
       "      <th>19922</th>\n",
       "      <td>-119.35</td>\n",
       "      <td>36.32</td>\n",
       "      <td>10.0</td>\n",
       "      <td>3817.0</td>\n",
       "      <td>719.0</td>\n",
       "      <td>1686.0</td>\n",
       "      <td>714.0</td>\n",
       "      <td>3.8235</td>\n",
       "      <td>1.751070</td>\n",
       "    </tr>\n",
       "    <tr>\n",
       "      <th>2827</th>\n",
       "      <td>-119.09</td>\n",
       "      <td>35.43</td>\n",
       "      <td>28.0</td>\n",
       "      <td>254.0</td>\n",
       "      <td>35.0</td>\n",
       "      <td>118.0</td>\n",
       "      <td>37.0</td>\n",
       "      <td>4.8571</td>\n",
       "      <td>1.119211</td>\n",
       "    </tr>\n",
       "    <tr>\n",
       "      <th>3905</th>\n",
       "      <td>-118.50</td>\n",
       "      <td>34.20</td>\n",
       "      <td>18.0</td>\n",
       "      <td>4249.0</td>\n",
       "      <td>933.0</td>\n",
       "      <td>2047.0</td>\n",
       "      <td>909.0</td>\n",
       "      <td>4.1304</td>\n",
       "      <td>0.167543</td>\n",
       "    </tr>\n",
       "    <tr>\n",
       "      <th>16992</th>\n",
       "      <td>-122.27</td>\n",
       "      <td>37.56</td>\n",
       "      <td>17.0</td>\n",
       "      <td>3211.0</td>\n",
       "      <td>847.0</td>\n",
       "      <td>1553.0</td>\n",
       "      <td>812.0</td>\n",
       "      <td>4.9434</td>\n",
       "      <td>0.198015</td>\n",
       "    </tr>\n",
       "  </tbody>\n",
       "</table>\n",
       "</div>"
      ],
      "text/plain": [
       "       longitude  latitude  housing_median_age  total_rooms  total_bedrooms  \\\n",
       "8049     -118.17     33.83                45.0       2019.0           363.0   \n",
       "19922    -119.35     36.32                10.0       3817.0           719.0   \n",
       "2827     -119.09     35.43                28.0        254.0            35.0   \n",
       "3905     -118.50     34.20                18.0       4249.0           933.0   \n",
       "16992    -122.27     37.56                17.0       3211.0           847.0   \n",
       "\n",
       "       population  households  median_income  distance_coastline  \n",
       "8049        880.0       339.0         4.1023            0.066654  \n",
       "19922      1686.0       714.0         3.8235            1.751070  \n",
       "2827        118.0        37.0         4.8571            1.119211  \n",
       "3905       2047.0       909.0         4.1304            0.167543  \n",
       "16992      1553.0       812.0         4.9434            0.198015  "
      ]
     },
     "execution_count": 40,
     "metadata": {},
     "output_type": "execute_result"
    }
   ],
   "source": [
    "from sklearn.model_selection import StratifiedShuffleSplit\n",
    "\n",
    "split = StratifiedShuffleSplit(n_splits=1,test_size=0.2,random_state=43)\n",
    "for train_idx,test_idx in split.split(housing,housing['income_cat']):\n",
    "    strat_train_set = housing.loc[train_idx]\n",
    "    strat_test_set = housing.loc[test_idx]\n",
    "for set_ in (strat_test_set,strat_train_set):\n",
    "    set_.drop('income_cat',axis=1,inplace=True)\n",
    "\n",
    "strat_train_labels = strat_train_set['median_house_value']\n",
    "strat_test_labels = strat_test_set['median_house_value']\n",
    "strat_train_set.drop('median_house_value',inplace=True,axis=1)\n",
    "strat_test_set.drop('median_house_value',inplace=True,axis=1)\n",
    "housing = strat_train_set.copy()\n",
    "# strat_train_set.head()\n",
    "\n",
    "# housing.\n"
   ]
  },
  {
   "cell_type": "code",
   "execution_count": 68,
   "metadata": {},
   "outputs": [
    {
     "data": {
      "text/plain": [
       "['longitude',\n",
       " 'latitude',\n",
       " 'housing_median_age',\n",
       " 'total_rooms',\n",
       " 'total_bedrooms',\n",
       " 'population',\n",
       " 'households',\n",
       " 'median_income',\n",
       " 'distance_coastline']"
      ]
     },
     "execution_count": 68,
     "metadata": {},
     "output_type": "execute_result"
    }
   ],
   "source": [
    "housing_og_attr = list(housing)\n",
    "housing_og_attr"
   ]
  },
  {
   "cell_type": "code",
   "execution_count": 41,
   "metadata": {},
   "outputs": [],
   "source": [
    "from sklearn.base import BaseEstimator, TransformerMixin\n",
    "\n",
    "rooms_ix, bedrooms_ix, population_ix, households_ix = 3,4,5,6\n",
    "class combined(BaseEstimator,TransformerMixin):\n",
    "    def __init__(self,add_bedrooms_per_room=True):\n",
    "        self.add_bpr = add_bedrooms_per_room\n",
    "    def fit(self,X,y=None):\n",
    "        return self\n",
    "    def transform(self,X,y=None):\n",
    "        rooms_per_houseold = X[:,rooms_ix]/X[:,households_ix]\n",
    "        population_per_household = X[:,population_ix]/X[:,households_ix]\n",
    "        if self.add_bpr:\n",
    "            bedrooms_per_room = X[:,bedrooms_ix]/X[:,rooms_ix]\n",
    "            return np.c_[X,rooms_per_houseold,population_per_household,bedrooms_per_room]\n",
    "        return np.c_[X,rooms_per_houseold,population_per_household]\n",
    "        "
   ]
  },
  {
   "cell_type": "code",
   "execution_count": 42,
   "metadata": {},
   "outputs": [],
   "source": [
    "from sklearn.pipeline import Pipeline\n",
    "from sklearn.preprocessing import StandardScaler\n",
    "from sklearn.impute import SimpleImputer\n",
    "\n",
    "num_pipeline = Pipeline([\n",
    "    ('imputer',SimpleImputer(strategy='median')),\n",
    "    ('attr_adder',combined()),\n",
    "    ('std_scaler',StandardScaler())\n",
    "])"
   ]
  },
  {
   "cell_type": "code",
   "execution_count": 43,
   "metadata": {},
   "outputs": [
    {
     "data": {
      "text/plain": [
       "array([[ 0.6972303 , -0.84147342,  1.30687973, -0.28574813, -0.41721612,\n",
       "        -0.4877143 , -0.42220982,  0.12344712, -0.75756943,  0.20876467,\n",
       "        -0.04272092, -0.51128686],\n",
       "       [ 0.10806565,  0.32439472, -1.47762532,  0.54628976,  0.43357729,\n",
       "         0.23306646,  0.56382045, -0.02363553,  2.06742783, -0.03486635,\n",
       "        -0.06319597, -0.38293619],\n",
       "       [ 0.23788159, -0.0923212 , -0.04559415, -1.10251501, -1.2010932 ,\n",
       "        -1.16914723, -1.21629286,  0.5216465 ,  1.00771339,  0.57197067,\n",
       "         0.00907826, -1.13983134],\n",
       "       [ 0.53246392, -0.66823197, -0.84116702,  0.74620097,  0.94500928,\n",
       "         0.55589754,  1.0765562 ,  0.13827145, -0.58836451, -0.30317038,\n",
       "        -0.07274872,  0.08421755]])"
      ]
     },
     "execution_count": 43,
     "metadata": {},
     "output_type": "execute_result"
    }
   ],
   "source": [
    "housing_transform = num_pipeline.fit_transform(housing)\n",
    "housing_transform[:4]"
   ]
  },
  {
   "cell_type": "code",
   "execution_count": 44,
   "metadata": {},
   "outputs": [
    {
     "data": {
      "text/plain": [
       "LinearRegression()"
      ]
     },
     "execution_count": 44,
     "metadata": {},
     "output_type": "execute_result"
    }
   ],
   "source": [
    "from sklearn.linear_model import LinearRegression\n",
    "\n",
    "lin_reg = LinearRegression()\n",
    "lin_reg.fit(housing_transform,strat_train_labels)"
   ]
  },
  {
   "cell_type": "code",
   "execution_count": 46,
   "metadata": {},
   "outputs": [
    {
     "data": {
      "text/plain": [
       "68583.7753994035"
      ]
     },
     "execution_count": 46,
     "metadata": {},
     "output_type": "execute_result"
    }
   ],
   "source": [
    "from sklearn.metrics import mean_squared_error\n",
    "housing_predictions = lin_reg.predict(housing_transform)\n",
    "lin_mse = mean_squared_error(strat_train_labels,housing_predictions)\n",
    "lin_rmse = np.sqrt(lin_mse)\n",
    "lin_rmse\n"
   ]
  },
  {
   "cell_type": "code",
   "execution_count": 47,
   "metadata": {},
   "outputs": [
    {
     "data": {
      "text/plain": [
       "DecisionTreeRegressor()"
      ]
     },
     "execution_count": 47,
     "metadata": {},
     "output_type": "execute_result"
    }
   ],
   "source": [
    "from sklearn.tree import DecisionTreeRegressor\n",
    "\n",
    "tree_reg = DecisionTreeRegressor()\n",
    "tree_reg.fit(housing_transform,strat_train_labels)\n"
   ]
  },
  {
   "cell_type": "code",
   "execution_count": 49,
   "metadata": {},
   "outputs": [
    {
     "data": {
      "text/plain": [
       "0.0"
      ]
     },
     "execution_count": 49,
     "metadata": {},
     "output_type": "execute_result"
    }
   ],
   "source": [
    "housing_predictions = tree_reg.predict(housing_transform)\n",
    "lin_mse = mean_squared_error(strat_train_labels,housing_predictions)\n",
    "lin_rmse = np.sqrt(lin_mse)\n",
    "lin_rmse"
   ]
  },
  {
   "cell_type": "code",
   "execution_count": 53,
   "metadata": {},
   "outputs": [
    {
     "data": {
      "text/plain": [
       "RandomForestRegressor()"
      ]
     },
     "execution_count": 53,
     "metadata": {},
     "output_type": "execute_result"
    }
   ],
   "source": [
    "from sklearn.ensemble import RandomForestRegressor\n",
    "\n",
    "forest_reg = RandomForestRegressor()\n",
    "forest_reg.fit(housing_transform,strat_train_labels)\n"
   ]
  },
  {
   "cell_type": "code",
   "execution_count": 54,
   "metadata": {},
   "outputs": [
    {
     "data": {
      "text/plain": [
       "17683.59291626164"
      ]
     },
     "execution_count": 54,
     "metadata": {},
     "output_type": "execute_result"
    }
   ],
   "source": [
    "housing_predictions = forest_reg.predict(housing_transform)\n",
    "forest_mse = mean_squared_error(housing_predictions,strat_train_labels)\n",
    "forest_rmse = np.sqrt(forest_mse)\n",
    "forest_rmse"
   ]
  },
  {
   "cell_type": "code",
   "execution_count": 55,
   "metadata": {},
   "outputs": [
    {
     "name": "stdout",
     "output_type": "stream",
     "text": [
      "decison tree:\n",
      "66824.61226022638 2054.308292371747\n",
      "Linear:\n",
      "68971.11398789023 2990.6542553119075\n",
      "Forest:\n",
      "47465.567445277746 997.8033164748739\n"
     ]
    }
   ],
   "source": [
    "from sklearn.model_selection import cross_val_score\n",
    "scores = cross_val_score(tree_reg,housing_transform,strat_train_labels,scoring='neg_mean_squared_error',cv=10)\n",
    "tree_rmse_scores = np.sqrt(-scores)\n",
    "lin_scores = cross_val_score(lin_reg,housing_transform,strat_train_labels,scoring='neg_mean_squared_error',cv=10)\n",
    "lin_rmse_scores = np.sqrt(-lin_scores)\n",
    "forest_scores = cross_val_score(forest_reg,housing_transform,strat_train_labels,scoring='neg_mean_squared_error',cv=10)\n",
    "forest_rmse_scores = np.sqrt(-forest_scores)\n",
    "print('decison tree:')\n",
    "print(tree_rmse_scores.mean(),tree_rmse_scores.std())\n",
    "print('Linear:')\n",
    "print(lin_rmse_scores.mean(),lin_rmse_scores.std())\n",
    "print('Forest:')\n",
    "print(forest_rmse_scores.mean(),forest_rmse_scores.std())"
   ]
  },
  {
   "cell_type": "code",
   "execution_count": 56,
   "metadata": {},
   "outputs": [
    {
     "data": {
      "text/plain": [
       "GridSearchCV(cv=5, estimator=RandomForestRegressor(),\n",
       "             param_grid=[{'bootstrap': [True, False],\n",
       "                          'max_features': [4, 8, 12],\n",
       "                          'n_estimators': [10, 30, 40]},\n",
       "                         {'bootstrap': [False, True], 'max_features': [2, 3, 4],\n",
       "                          'n_estimators': [3, 10]}],\n",
       "             return_train_score=True, scoring='neg_mean_squared_error')"
      ]
     },
     "execution_count": 56,
     "metadata": {},
     "output_type": "execute_result"
    }
   ],
   "source": [
    "from sklearn.model_selection import GridSearchCV\n",
    "\n",
    "param_grid = [\n",
    "{'bootstrap': [True,False],'n_estimators': [10, 30,40], 'max_features': [4, 8,12]},\n",
    "{'bootstrap': [False,True], 'n_estimators': [3, 10], 'max_features': [2, 3, 4]},\n",
    "]\n",
    "forest_reg = RandomForestRegressor()\n",
    "grid_search = GridSearchCV(forest_reg, param_grid, cv=5,\n",
    "scoring='neg_mean_squared_error',\n",
    "return_train_score=True)\n",
    "grid_search.fit(housing_transform, strat_train_labels)"
   ]
  },
  {
   "cell_type": "code",
   "execution_count": 57,
   "metadata": {},
   "outputs": [
    {
     "name": "stdout",
     "output_type": "stream",
     "text": [
      "49440.889774473 {'bootstrap': True, 'max_features': 4, 'n_estimators': 10}\n",
      "47448.564014748066 {'bootstrap': True, 'max_features': 4, 'n_estimators': 30}\n",
      "47184.05850041942 {'bootstrap': True, 'max_features': 4, 'n_estimators': 40}\n",
      "49940.269678685996 {'bootstrap': True, 'max_features': 8, 'n_estimators': 10}\n",
      "48014.65979722412 {'bootstrap': True, 'max_features': 8, 'n_estimators': 30}\n",
      "47701.32511387763 {'bootstrap': True, 'max_features': 8, 'n_estimators': 40}\n",
      "50361.091013533834 {'bootstrap': True, 'max_features': 12, 'n_estimators': 10}\n",
      "48415.546809857646 {'bootstrap': True, 'max_features': 12, 'n_estimators': 30}\n",
      "48246.199118869 {'bootstrap': True, 'max_features': 12, 'n_estimators': 40}\n",
      "48843.93283873239 {'bootstrap': False, 'max_features': 4, 'n_estimators': 10}\n",
      "46991.6266789231 {'bootstrap': False, 'max_features': 4, 'n_estimators': 30}\n",
      "46440.98260487715 {'bootstrap': False, 'max_features': 4, 'n_estimators': 40}\n",
      "49732.702195469785 {'bootstrap': False, 'max_features': 8, 'n_estimators': 10}\n",
      "48124.68789595841 {'bootstrap': False, 'max_features': 8, 'n_estimators': 30}\n",
      "47772.396962487655 {'bootstrap': False, 'max_features': 8, 'n_estimators': 40}\n",
      "65707.17310813707 {'bootstrap': False, 'max_features': 12, 'n_estimators': 10}\n",
      "65436.78314429248 {'bootstrap': False, 'max_features': 12, 'n_estimators': 30}\n",
      "65384.704716987835 {'bootstrap': False, 'max_features': 12, 'n_estimators': 40}\n",
      "58101.35886074676 {'bootstrap': False, 'max_features': 2, 'n_estimators': 3}\n",
      "51202.99445166752 {'bootstrap': False, 'max_features': 2, 'n_estimators': 10}\n",
      "56121.04706167114 {'bootstrap': False, 'max_features': 3, 'n_estimators': 3}\n",
      "49012.97199312519 {'bootstrap': False, 'max_features': 3, 'n_estimators': 10}\n",
      "54868.85383174876 {'bootstrap': False, 'max_features': 4, 'n_estimators': 3}\n",
      "48341.732619394694 {'bootstrap': False, 'max_features': 4, 'n_estimators': 10}\n",
      "60292.789778239414 {'bootstrap': True, 'max_features': 2, 'n_estimators': 3}\n",
      "51580.48604949458 {'bootstrap': True, 'max_features': 2, 'n_estimators': 10}\n",
      "58136.27567520703 {'bootstrap': True, 'max_features': 3, 'n_estimators': 3}\n",
      "50370.06911357549 {'bootstrap': True, 'max_features': 3, 'n_estimators': 10}\n",
      "56654.97915777624 {'bootstrap': True, 'max_features': 4, 'n_estimators': 3}\n",
      "49584.91974225413 {'bootstrap': True, 'max_features': 4, 'n_estimators': 10}\n"
     ]
    }
   ],
   "source": [
    "cvres = grid_search.cv_results_\n",
    "for mean_score, params in zip(cvres[\"mean_test_score\"], cvres[\"params\"]):\n",
    "    print(np.sqrt(-mean_score), params)"
   ]
  },
  {
   "cell_type": "code",
   "execution_count": 58,
   "metadata": {},
   "outputs": [
    {
     "data": {
      "text/plain": [
       "{'bootstrap': False, 'max_features': 4, 'n_estimators': 40}"
      ]
     },
     "execution_count": 58,
     "metadata": {},
     "output_type": "execute_result"
    }
   ],
   "source": [
    "grid_search.best_params_"
   ]
  },
  {
   "cell_type": "code",
   "execution_count": 59,
   "metadata": {},
   "outputs": [
    {
     "data": {
      "text/plain": [
       "array([0.06499645, 0.07392797, 0.03453396, 0.01450216, 0.01348235,\n",
       "       0.01434695, 0.01339134, 0.30979873, 0.23783828, 0.06184771,\n",
       "       0.09348268, 0.06785143])"
      ]
     },
     "execution_count": 59,
     "metadata": {},
     "output_type": "execute_result"
    }
   ],
   "source": [
    "feature_imp = grid_search.best_estimator_.feature_importances_\n",
    "feature_imp"
   ]
  },
  {
   "cell_type": "code",
   "execution_count": 70,
   "metadata": {},
   "outputs": [
    {
     "data": {
      "text/plain": [
       "[(0.30979872921404467, 'median_income'),\n",
       " (0.2378382828027252, 'distance_coastline'),\n",
       " (0.09348268129681697, 'pop/h'),\n",
       " (0.07392796567241072, 'latitude'),\n",
       " (0.06785143386634919, 'bed/r'),\n",
       " (0.06499645236419596, 'longitude'),\n",
       " (0.061847705053817974, 'rooms/h'),\n",
       " (0.03453395628801239, 'housing_median_age'),\n",
       " (0.014502156854686664, 'total_rooms'),\n",
       " (0.01434694831942117, 'population'),\n",
       " (0.013482345857573054, 'total_bedrooms'),\n",
       " (0.013391342409946163, 'households')]"
      ]
     },
     "execution_count": 70,
     "metadata": {},
     "output_type": "execute_result"
    }
   ],
   "source": [
    "extra_attr = ['rooms/h','pop/h','bed/r']\n",
    "attributes = housing_og_attr + extra_attr\n",
    "sorted(zip(feature_imp,attributes),reverse=True)"
   ]
  },
  {
   "cell_type": "code",
   "execution_count": 74,
   "metadata": {},
   "outputs": [
    {
     "data": {
      "text/plain": [
       "45752.63141892831"
      ]
     },
     "execution_count": 74,
     "metadata": {},
     "output_type": "execute_result"
    }
   ],
   "source": [
    "final_model = grid_search.best_estimator_\n",
    "strat_test_transform = num_pipeline.transform(strat_test_set)\n",
    "final_pred = final_model.predict(strat_test_transform)\n",
    "final_mse = mean_squared_error(strat_test_labels,final_pred)\n",
    "final_rmse = np.sqrt(final_mse)\n",
    "final_rmse"
   ]
  },
  {
   "cell_type": "code",
   "execution_count": 75,
   "metadata": {},
   "outputs": [
    {
     "data": {
      "text/plain": [
       "array([43487.06567596, 47911.18535799])"
      ]
     },
     "execution_count": 75,
     "metadata": {},
     "output_type": "execute_result"
    }
   ],
   "source": [
    "from scipy import stats\n",
    "confidence = 0.95\n",
    "squared_errors = (final_pred - strat_test_labels) ** 2\n",
    "np.sqrt(stats.t.interval(confidence, len(squared_errors) - 1,loc=squared_errors.mean(),scale=stats.sem(squared_errors)))\n"
   ]
  },
  {
   "cell_type": "code",
   "execution_count": null,
   "metadata": {},
   "outputs": [],
   "source": []
  }
 ],
 "metadata": {
  "interpreter": {
   "hash": "a6881bd14d3370ea85f18b703f3f2a6f188b617e6c72cc1a657dd549e4c4e9a1"
  },
  "kernelspec": {
   "display_name": "Python 3.8.12 ('rapids-22.02')",
   "language": "python",
   "name": "python3"
  },
  "language_info": {
   "codemirror_mode": {
    "name": "ipython",
    "version": 3
   },
   "file_extension": ".py",
   "mimetype": "text/x-python",
   "name": "python",
   "nbconvert_exporter": "python",
   "pygments_lexer": "ipython3",
   "version": "3.8.12"
  },
  "orig_nbformat": 4
 },
 "nbformat": 4,
 "nbformat_minor": 2
}
